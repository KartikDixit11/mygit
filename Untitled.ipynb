{
 "cells": [
  {
   "cell_type": "code",
   "execution_count": null,
   "id": "3cbb21f3",
   "metadata": {},
   "outputs": [],
   "source": [
    "print(\"hello\")\n",
    "\n",
    "i=[2,5,6,7]\n",
    "for k in i:\n",
    "    print(type(k),end=\" \")\n",
    "    \n",
    "\n",
    "list1=[\"Kartik\",\"prasad\",\"Dixit\"]\n",
    "\n",
    "for i in list1:\n",
    "    print(i)\n",
    "\n",
    "for i in list1:\n",
    "    print(i)\n",
    "else:\n",
    "    print(\"something\")\n",
    "    \n",
    "a=[3,45,6,7,7,8,8,343434,454645,106,6,6,6,5,4,4,6,77]"
   ]
  },
  {
   "cell_type": "code",
   "execution_count": 51,
   "id": "a36c0085",
   "metadata": {},
   "outputs": [
    {
     "name": "stdout",
     "output_type": "stream",
     "text": [
      "('name', 'kartik')\n",
      "('class', 'data vision')\n",
      "('topic', ['python', 'data'])\n"
     ]
    }
   ],
   "source": [
    "d={\"name\":\"kartik\",\"class\":\"data vision\",\"topic\":[\"python\",\"data\"]}\n",
    "\n",
    "for i in d.items():\n",
    "    print(i)"
   ]
  }
 ],
 "metadata": {
  "kernelspec": {
   "display_name": "Python 3 (ipykernel)",
   "language": "python",
   "name": "python3"
  },
  "language_info": {
   "codemirror_mode": {
    "name": "ipython",
    "version": 3
   },
   "file_extension": ".py",
   "mimetype": "text/x-python",
   "name": "python",
   "nbconvert_exporter": "python",
   "pygments_lexer": "ipython3",
   "version": "3.10.1"
  }
 },
 "nbformat": 4,
 "nbformat_minor": 5
}
